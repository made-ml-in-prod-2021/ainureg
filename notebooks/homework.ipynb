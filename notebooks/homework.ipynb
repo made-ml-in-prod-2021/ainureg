{
 "cells": [
  {
   "cell_type": "markdown",
   "metadata": {},
   "source": [
    "# Машинное обучение в продакшене. Домашнее задание №1"
   ]
  },
  {
   "cell_type": "markdown",
   "metadata": {},
   "source": [
    "Мягкий дедлайн: __9 мая 23:59__\n",
    "\n",
    "Жесткий дедлайн:  __16 мая 23:59__"
   ]
  },
  {
   "cell_type": "markdown",
   "metadata": {},
   "source": [
    "ФИО: `Каримов Айнур Фанович`"
   ]
  },
  {
   "cell_type": "markdown",
   "metadata": {},
   "source": [
    "Группа: `MADE-DS-22 `"
   ]
  },
  {
   "cell_type": "markdown",
   "metadata": {},
   "source": [
    "Выполнение __первого домашнего задания__ оценивается в 30 баллов. \n",
    "\n",
    "Вам потребуется сделать \"production ready\" проект для решения задачи классификации, то есть написать код для обучения и предикта, покрыть его тестами, обучить с помощью него модельку.\n",
    "\n",
    "Для обучения модели, можете использовать [датасет](https://www.kaggle.com/ronitf/heart-disease-uci), либо иной небольшой датасет для классификации(если используете другой, то опишите какой и как его получить в readme)\n",
    "\n",
    "[Пример](https://github.com/made-ml-in-prod-2021/ml_project_example) подобного разбирали на паре, не нужно отсюда копировать=)"
   ]
  },
  {
   "cell_type": "markdown",
   "metadata": {},
   "source": [
    "__Критерии__ (указаны максимальные баллы, по каждому критерию ревьюер может поставить баллы частично):\n",
    "\n",
    "-2. Назовите ветку homework1 (1 балл)\n",
    "\n",
    "-1. положите код в папку ml_project\n",
    "\n",
    "0. В описании к пулл реквесту описаны основные \"архитектурные\" и тактические решения, которые сделаны в вашей работе. В общем, описание что именно вы сделали и для чего, чтобы вашим ревьюерам было легче понять ваш код. (2 балла)\n",
    "\n",
    "1. Выполнение EDA, закоммитьте ноутбук в папку с ноутбуками (2 баллов)\n",
    "    Вы так же можете построить в ноутбуке прототип(если это вписывается в ваш стиль работы)\n",
    "    Можете использовать не ноутбук, а скрипт, который сгенерит отчет, закоммитьте и скрипт и отчет (за это + 1 балл)\n",
    "\n",
    "2. Проект имеет модульную структуру(не все в одном файле =) ) (2 баллов)\n",
    "\n",
    "3. использованы логгеры (2 балла)\n",
    "\n",
    "4. написаны тесты на отдельные модули и на прогон всего пайплайна(3 баллов)\n",
    "\n",
    "5. Для тестов генерируются синтетические данные, приближенные к реальным (3 баллов)\n",
    "    - можно посмотреть на библиотеки [faker](https://faker.readthedocs.io/en/), [Feature Forge](https://feature-forge.readthedocs.io/en/latest/)\n",
    "\n",
    "    - можно просто руками посоздавать данных, собственноручно написанными функциями\n",
    "        как альтернатива, можно закоммитить файл с подмножеством трейна(это не оценивается) \n",
    "\n",
    "6. Обучение модели конфигурируется с помощью конфигов в json или yaml, закоммитьте как минимум 2 корректные конфигурации, с помощью которых можно обучить модель (разные модели, стратегии split, preprocessing) (3 балла)\n",
    "\n",
    "7. Используются датаклассы для сущностей из конфига, а не голые dict (3 балла) \n",
    "\n",
    "8. Используйте кастомный трансформер(написанный своими руками) и протестируйте его(3 балла)\n",
    "\n",
    "9. Обучите модель, запишите в readme как это предлагается (3 балла)\n",
    "\n",
    "10. напишите функцию predict, которая примет на вход артефакт/ы от обучения, тестовую выборку(без меток) и запишет предикт, напишите в readme как это сделать (3 балла)  \n",
    "\n",
    "11. Используется [hydra](https://hydra.cc/docs/intro/) (3 балла - доп баллы)\n",
    "\n",
    "12. Настроен CI(прогон тестов, линтера) на основе github actions  (3 балла - доп баллы (будем проходить дальше в курсе, но если есть желание поразбираться - welcome)\n",
    "\n",
    "13. Проведите самооценку, опишите, в какое колво баллов по вашему мнению стоит оценить вашу работу и почему (1 балл доп баллы) \n",
    "\n",
    "PS: Можно использовать [cookiecutter-data-science](https://drivendata.github.io/cookiecutter-data-science/) , но поудаляйте папки, в которые вы не вносили изменения, чтобы не затруднять ревью"
   ]
  },
  {
   "cell_type": "code",
   "execution_count": 3,
   "metadata": {},
   "outputs": [],
   "source": [
    "import pandas as pd\n",
    "import os"
   ]
  },
  {
   "cell_type": "code",
   "execution_count": 6,
   "metadata": {},
   "outputs": [],
   "source": [
    "data_path = os.path.join(\"..\", \"data\", \"heart.csv\")\n",
    "data = pd.read_csv(data_path)"
   ]
  },
  {
   "cell_type": "code",
   "execution_count": 29,
   "metadata": {},
   "outputs": [],
   "source": [
    "from sklearn.ensemble import RandomForestClassifier\n",
    "from sklearn.model_selection import train_test_split\n",
    "import matplotlib.pyplot as plt"
   ]
  },
  {
   "cell_type": "code",
   "execution_count": 19,
   "metadata": {},
   "outputs": [],
   "source": [
    "X = data.loc[:, data.columns != 'target']\n",
    "y = data.loc[:, 'target']"
   ]
  },
  {
   "cell_type": "code",
   "execution_count": 21,
   "metadata": {},
   "outputs": [],
   "source": [
    "random_seed = 42\n",
    "X_train, X_test, y_train, y_test = train_test_split( X,y, random_state = 42)"
   ]
  },
  {
   "cell_type": "code",
   "execution_count": 22,
   "metadata": {},
   "outputs": [],
   "source": [
    "classifier = RandomForestClassifier()"
   ]
  },
  {
   "cell_type": "code",
   "execution_count": 23,
   "metadata": {},
   "outputs": [
    {
     "data": {
      "text/plain": [
       "RandomForestClassifier()"
      ]
     },
     "execution_count": 23,
     "metadata": {},
     "output_type": "execute_result"
    }
   ],
   "source": [
    "classifier.fit(X_train, y_train)"
   ]
  },
  {
   "cell_type": "code",
   "execution_count": 25,
   "metadata": {},
   "outputs": [],
   "source": [
    "from sklearn.metrics import roc_auc_score, plot_roc_curve"
   ]
  },
  {
   "cell_type": "code",
   "execution_count": 26,
   "metadata": {},
   "outputs": [],
   "source": [
    "y_pred = classifier.predict(X_test)"
   ]
  },
  {
   "cell_type": "code",
   "execution_count": null,
   "metadata": {},
   "outputs": [],
   "source": [
    "plot_roc_curve(classifier, X_test, y_test)  \n",
    "plt.show()   "
   ]
  },
  {
   "cell_type": "code",
   "execution_count": 31,
   "metadata": {},
   "outputs": [
    {
     "data": {
      "text/plain": [
       "0.8125435540069686"
      ]
     },
     "execution_count": 31,
     "metadata": {},
     "output_type": "execute_result"
    }
   ],
   "source": [
    "roc_auc_score(y_test, y_pred)"
   ]
  },
  {
   "cell_type": "code",
   "execution_count": null,
   "metadata": {},
   "outputs": [],
   "source": []
  }
 ],
 "metadata": {
  "kernelspec": {
   "display_name": "Python 3",
   "language": "python",
   "name": "python3"
  },
  "language_info": {
   "codemirror_mode": {
    "name": "ipython",
    "version": 3
   },
   "file_extension": ".py",
   "mimetype": "text/x-python",
   "name": "python",
   "nbconvert_exporter": "python",
   "pygments_lexer": "ipython3",
   "version": "3.8.5"
  }
 },
 "nbformat": 4,
 "nbformat_minor": 4
}
